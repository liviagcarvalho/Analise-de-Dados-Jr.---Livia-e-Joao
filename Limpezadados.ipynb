{
 "cells": [
  {
   "cell_type": "markdown",
   "id": "8d36e10c",
   "metadata": {},
   "source": [
    "LIMPEZA DE DADOS"
   ]
  },
  {
   "cell_type": "markdown",
   "id": "5be29672",
   "metadata": {},
   "source": [
    "Imports:\n"
   ]
  },
  {
   "cell_type": "code",
   "execution_count": 1,
   "id": "621bbdf8",
   "metadata": {},
   "outputs": [],
   "source": [
    "import pandas as pd\n",
    "import matplotlib.pyplot as plt "
   ]
  },
  {
   "cell_type": "markdown",
   "id": "84a6a771",
   "metadata": {},
   "source": [
    "Data frame"
   ]
  },
  {
   "cell_type": "code",
   "execution_count": 11,
   "id": "57da2977",
   "metadata": {},
   "outputs": [
    {
     "data": {
      "text/html": [
       "<div>\n",
       "<style scoped>\n",
       "    .dataframe tbody tr th:only-of-type {\n",
       "        vertical-align: middle;\n",
       "    }\n",
       "\n",
       "    .dataframe tbody tr th {\n",
       "        vertical-align: top;\n",
       "    }\n",
       "\n",
       "    .dataframe thead th {\n",
       "        text-align: right;\n",
       "    }\n",
       "</style>\n",
       "<table border=\"1\" class=\"dataframe\">\n",
       "  <thead>\n",
       "    <tr style=\"text-align: right;\">\n",
       "      <th></th>\n",
       "      <th>id_pedido</th>\n",
       "      <th>nome_cliente</th>\n",
       "      <th>modo_envio</th>\n",
       "      <th>estado</th>\n",
       "      <th>vendas</th>\n",
       "      <th>quantidade</th>\n",
       "      <th>desconto</th>\n",
       "      <th>lucro</th>\n",
       "      <th>segmento</th>\n",
       "      <th>região</th>\n",
       "      <th>...</th>\n",
       "      <th>dia_pedido</th>\n",
       "      <th>dia_semana_pedido</th>\n",
       "      <th>mes_pedido</th>\n",
       "      <th>ano_pedido</th>\n",
       "      <th>dia_envio</th>\n",
       "      <th>mes_envio</th>\n",
       "      <th>ano_envio</th>\n",
       "      <th>data_pedido</th>\n",
       "      <th>mes_ano</th>\n",
       "      <th>tempo_preparacao</th>\n",
       "    </tr>\n",
       "  </thead>\n",
       "  <tbody>\n",
       "    <tr>\n",
       "      <th>0</th>\n",
       "      <td>1</td>\n",
       "      <td>Muhammed MacIntyre</td>\n",
       "      <td>Expresso</td>\n",
       "      <td>Paraná</td>\n",
       "      <td>825.174</td>\n",
       "      <td>9</td>\n",
       "      <td>0.30</td>\n",
       "      <td>-117.8820</td>\n",
       "      <td>Corporativo</td>\n",
       "      <td>Sul</td>\n",
       "      <td>...</td>\n",
       "      <td>4</td>\n",
       "      <td>Domingo</td>\n",
       "      <td>9</td>\n",
       "      <td>2016</td>\n",
       "      <td>6</td>\n",
       "      <td>9</td>\n",
       "      <td>2016</td>\n",
       "      <td>42617</td>\n",
       "      <td>42617</td>\n",
       "      <td>2</td>\n",
       "    </tr>\n",
       "    <tr>\n",
       "      <th>1</th>\n",
       "      <td>2</td>\n",
       "      <td>Ruben Dartt</td>\n",
       "      <td>Normal</td>\n",
       "      <td>São Paulo</td>\n",
       "      <td>411.332</td>\n",
       "      <td>4</td>\n",
       "      <td>0.15</td>\n",
       "      <td>-4.8392</td>\n",
       "      <td>Consumidor</td>\n",
       "      <td>Sudeste</td>\n",
       "      <td>...</td>\n",
       "      <td>5</td>\n",
       "      <td>Sexta-feira</td>\n",
       "      <td>9</td>\n",
       "      <td>2014</td>\n",
       "      <td>9</td>\n",
       "      <td>9</td>\n",
       "      <td>2014</td>\n",
       "      <td>41887</td>\n",
       "      <td>41887</td>\n",
       "      <td>4</td>\n",
       "    </tr>\n",
       "    <tr>\n",
       "      <th>2</th>\n",
       "      <td>3</td>\n",
       "      <td>Liz Pelletier</td>\n",
       "      <td>Mesmo Dia</td>\n",
       "      <td>São Paulo</td>\n",
       "      <td>411.332</td>\n",
       "      <td>4</td>\n",
       "      <td>0.15</td>\n",
       "      <td>-4.8392</td>\n",
       "      <td>Home Office</td>\n",
       "      <td>Sudeste</td>\n",
       "      <td>...</td>\n",
       "      <td>28</td>\n",
       "      <td>Quinta-feira</td>\n",
       "      <td>11</td>\n",
       "      <td>2013</td>\n",
       "      <td>28</td>\n",
       "      <td>11</td>\n",
       "      <td>2013</td>\n",
       "      <td>41606</td>\n",
       "      <td>41606</td>\n",
       "      <td>0</td>\n",
       "    </tr>\n",
       "  </tbody>\n",
       "</table>\n",
       "<p>3 rows × 22 columns</p>\n",
       "</div>"
      ],
      "text/plain": [
       "   id_pedido        nome_cliente modo_envio     estado   vendas  quantidade  \\\n",
       "0          1  Muhammed MacIntyre   Expresso     Paraná  825.174           9   \n",
       "1          2         Ruben Dartt     Normal  São Paulo  411.332           4   \n",
       "2          3       Liz Pelletier  Mesmo Dia  São Paulo  411.332           4   \n",
       "\n",
       "   desconto     lucro     segmento   região  ... dia_pedido dia_semana_pedido  \\\n",
       "0      0.30 -117.8820  Corporativo      Sul  ...          4           Domingo   \n",
       "1      0.15   -4.8392   Consumidor  Sudeste  ...          5       Sexta-feira   \n",
       "2      0.15   -4.8392  Home Office  Sudeste  ...         28      Quinta-feira   \n",
       "\n",
       "   mes_pedido ano_pedido  dia_envio  mes_envio  ano_envio  data_pedido  \\\n",
       "0           9       2016          6          9       2016        42617   \n",
       "1           9       2014          9          9       2014        41887   \n",
       "2          11       2013         28         11       2013        41606   \n",
       "\n",
       "   mes_ano  tempo_preparacao  \n",
       "0    42617                 2  \n",
       "1    41887                 4  \n",
       "2    41606                 0  \n",
       "\n",
       "[3 rows x 22 columns]"
      ]
     },
     "execution_count": 11,
     "metadata": {},
     "output_type": "execute_result"
    }
   ],
   "source": [
    "df = pd.read_excel(\"../Proj2.xlsx\")\n",
    "df.head(3)"
   ]
  },
  {
   "cell_type": "markdown",
   "id": "8fa4c26e",
   "metadata": {},
   "source": [
    "IDENTIFICANDO PROBLEMAS:\n",
    "1- Visão geral dos dados\n"
   ]
  },
  {
   "cell_type": "code",
   "execution_count": 17,
   "id": "273c14e3",
   "metadata": {},
   "outputs": [
    {
     "name": "stdout",
     "output_type": "stream",
     "text": [
      "<class 'pandas.core.frame.DataFrame'>\n",
      "RangeIndex: 9994 entries, 0 to 9993\n",
      "Data columns (total 22 columns):\n",
      " #   Column             Non-Null Count  Dtype  \n",
      "---  ------             --------------  -----  \n",
      " 0   id_pedido          9994 non-null   int64  \n",
      " 1   nome_cliente       9994 non-null   object \n",
      " 2   modo_envio         9994 non-null   object \n",
      " 3   estado             9994 non-null   object \n",
      " 4   vendas             9994 non-null   float64\n",
      " 5   quantidade         9994 non-null   int64  \n",
      " 6   desconto           9994 non-null   float64\n",
      " 7   lucro              9994 non-null   float64\n",
      " 8   segmento           9994 non-null   object \n",
      " 9   região             9994 non-null   object \n",
      " 10  subcategoria       9994 non-null   object \n",
      " 11  categoria          9994 non-null   object \n",
      " 12  dia_pedido         9994 non-null   int64  \n",
      " 13  dia_semana_pedido  9994 non-null   object \n",
      " 14  mes_pedido         9994 non-null   int64  \n",
      " 15  ano_pedido         9994 non-null   int64  \n",
      " 16  dia_envio          9994 non-null   int64  \n",
      " 17  mes_envio          9994 non-null   int64  \n",
      " 18  ano_envio          9994 non-null   int64  \n",
      " 19  data_pedido        9994 non-null   int64  \n",
      " 20  mes_ano            9994 non-null   int64  \n",
      " 21  tempo_preparacao   9994 non-null   int64  \n",
      "dtypes: float64(3), int64(11), object(8)\n",
      "memory usage: 1.7+ MB\n",
      "None\n",
      "         id_pedido        vendas   quantidade     desconto        lucro  \\\n",
      "count  9994.000000   9994.000000  9994.000000  9994.000000  9994.000000   \n",
      "mean   4997.500000    229.858001     3.789574     0.156203    28.656896   \n",
      "std    2885.163629    623.245101     2.225110     0.206452   234.260108   \n",
      "min       1.000000      0.444000     1.000000     0.000000 -6599.978000   \n",
      "25%    2499.250000     17.280000     2.000000     0.000000     1.728750   \n",
      "50%    4997.500000     54.490000     3.000000     0.200000     8.666500   \n",
      "75%    7495.750000    209.940000     5.000000     0.200000    29.364000   \n",
      "max    9994.000000  22638.480000    14.000000     0.800000  8399.976000   \n",
      "\n",
      "        dia_pedido   mes_pedido   ano_pedido    dia_envio    mes_envio  \\\n",
      "count  9994.000000  9994.000000  9994.000000  9994.000000  9994.000000   \n",
      "mean     15.601461     7.805683  2014.722934    15.829798     7.738043   \n",
      "std       8.744958     3.287618     1.124039     8.803977     3.345842   \n",
      "min       1.000000     1.000000  2013.000000     1.000000     1.000000   \n",
      "25%       8.000000     5.000000  2014.000000     8.000000     5.000000   \n",
      "50%      16.000000     9.000000  2015.000000    16.000000     9.000000   \n",
      "75%      23.000000    11.000000  2016.000000    24.000000    11.000000   \n",
      "max      31.000000    12.000000  2016.000000    31.000000    12.000000   \n",
      "\n",
      "         ano_envio   data_pedido       mes_ano  tempo_preparacao  \n",
      "count  9994.000000   9994.000000   9994.000000       9994.000000  \n",
      "mean   2014.738743  42125.005003  42125.005003          3.958175  \n",
      "std       1.127020    420.489377    420.489377          1.747567  \n",
      "min    2013.000000  41277.000000  41277.000000          0.000000  \n",
      "25%    2014.000000  41782.000000  41782.000000          3.000000  \n",
      "50%    2015.000000  42182.000000  42182.000000          4.000000  \n",
      "75%    2016.000000  42504.000000  42504.000000          5.000000  \n",
      "max    2017.000000  42734.000000  42734.000000          7.000000  \n"
     ]
    }
   ],
   "source": [
    "print (df.info())\n",
    "\n",
    "print(df.describe())\n",
    "#mean = media aritmetica, std = desvio padrao\n",
    "#que nem falaram na aula tem que usar print se nao so devolve o ultimo"
   ]
  },
  {
   "cell_type": "markdown",
   "id": "5b9dcf5f",
   "metadata": {},
   "source": [
    "IDENTIFICANDO PROBLEMAS: 2- Verificando nulls, duplicadas e se tem categorias com mesmo significado porém escritas diferentes"
   ]
  },
  {
   "cell_type": "code",
   "execution_count": 18,
   "id": "9e459478",
   "metadata": {},
   "outputs": [
    {
     "name": "stdout",
     "output_type": "stream",
     "text": [
      "id_pedido            0\n",
      "nome_cliente         0\n",
      "modo_envio           0\n",
      "estado               0\n",
      "vendas               0\n",
      "quantidade           0\n",
      "desconto             0\n",
      "lucro                0\n",
      "segmento             0\n",
      "região               0\n",
      "subcategoria         0\n",
      "categoria            0\n",
      "dia_pedido           0\n",
      "dia_semana_pedido    0\n",
      "mes_pedido           0\n",
      "ano_pedido           0\n",
      "dia_envio            0\n",
      "mes_envio            0\n",
      "ano_envio            0\n",
      "data_pedido          0\n",
      "mes_ano              0\n",
      "tempo_preparacao     0\n",
      "dtype: int64\n",
      "0\n",
      "['Estantes' 'Cadeiras' 'Mobiliário' 'Mesas' 'Eletrodomésticos' 'Arte'\n",
      " 'Pastas' 'Envelopes' 'Fixadores' 'Etiquetas' 'Papel' 'Armazenamento'\n",
      " 'Suprimentos' 'Acessórios' 'Copiadoras' 'Máquinas' 'Telefones']\n",
      "['Móveis' 'Materiais de Escritório' 'Tecnologia']\n"
     ]
    }
   ],
   "source": [
    "print(df.isnull().sum())\n",
    "print(df.duplicated().sum())\n",
    "print(df['subcategoria'].unique())\n",
    "print(df['categoria'].unique())\n"
   ]
  },
  {
   "cell_type": "markdown",
   "id": "a97e114b",
   "metadata": {},
   "source": [
    "Dessa forma, temos 0 nulls, 0 duplicados e 0 nomes que estão em conflito. "
   ]
  },
  {
   "cell_type": "markdown",
   "id": "92aa1104",
   "metadata": {},
   "source": []
  }
 ],
 "metadata": {
  "kernelspec": {
   "display_name": "base",
   "language": "python",
   "name": "python3"
  },
  "language_info": {
   "codemirror_mode": {
    "name": "ipython",
    "version": 3
   },
   "file_extension": ".py",
   "mimetype": "text/x-python",
   "name": "python",
   "nbconvert_exporter": "python",
   "pygments_lexer": "ipython3",
   "version": "3.12.7"
  }
 },
 "nbformat": 4,
 "nbformat_minor": 5
}
